{
 "cells": [
  {
   "cell_type": "code",
   "execution_count": 75,
   "id": "7a172780-848d-4cc3-ad02-b320744ffc46",
   "metadata": {},
   "outputs": [
    {
     "name": "stdout",
     "output_type": "stream",
     "text": [
      "66.72\n",
      "72.68\n"
     ]
    }
   ],
   "source": [
    "#表示一个直线型经验公式，通过输入已测得的水泥实际强度和水泥灰水比可以计算得到水泥28龄期的抗压强度（MPa）\n",
    "\n",
    "def simple_func(Rc,A,B,E):\n",
    "    #Rc为水泥实际强度，A、B分别为经验系数，与骨料品种、水泥品种和质量等因素有关，E为灰水比（实际公式应该为C/W）\n",
    "    R28=A*Rc*(E-B)#R28为混凝土28d龄期的抗压强度（MPa）\n",
    "    return R28\n",
    "print(simple_func(Rc=100,A=0.48,B=0.61,E=2.0))#卵石混凝土计算\n",
    "print(simple_func(Rc=100,A=0.46,B=0.52,E=2.1))#碎石混凝土计算\n",
    "\n",
    "#通常，卵石混凝土，A=0.48,B=0.61;碎石混凝土，A=0.46,B=0.52\n",
    "#注意水灰比和灰水比不同，常用水灰比范围为0.30-0.80，而上述公式中为灰水比"
   ]
  },
  {
   "cell_type": "code",
   "execution_count": null,
   "id": "92fd0f2b-1fc6-40ef-9036-5c461bcb70af",
   "metadata": {},
   "outputs": [],
   "source": []
  },
  {
   "cell_type": "code",
   "execution_count": null,
   "id": "074da52b-3052-46a0-b9dd-b9830ce3861b",
   "metadata": {},
   "outputs": [],
   "source": []
  },
  {
   "cell_type": "code",
   "execution_count": null,
   "id": "65a2f28a-3b63-43bc-bcb4-4a290e0cf44d",
   "metadata": {},
   "outputs": [],
   "source": []
  },
  {
   "cell_type": "code",
   "execution_count": null,
   "metadata": {},
   "outputs": [],
   "source": []
  }
 ],
 "metadata": {
  "interpreter": {
   "hash": "af09bc94d41e018aa4bb791c06386d7d2a0d085b02fa573368449120a8cb3c6e"
  },
  "kernelspec": {
   "display_name": "Python 3.8.8 64-bit ('base': conda)",
   "name": "python3"
  },
  "language_info": {
   "codemirror_mode": {
    "name": "ipython",
    "version": 3
   },
   "file_extension": ".py",
   "mimetype": "text/x-python",
   "name": "python",
   "nbconvert_exporter": "python",
   "pygments_lexer": "ipython3",
   "version": "3.8.8"
  }
 },
 "nbformat": 4,
 "nbformat_minor": 5
}
